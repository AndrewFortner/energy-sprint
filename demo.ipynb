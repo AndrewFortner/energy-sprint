{
 "cells": [
  {
   "cell_type": "markdown",
   "metadata": {},
   "source": [
    "# Downloading data\n",
    "Go to the [Kaggle download page](https://www.kaggle.com/datasets/robikscube/hourly-energy-consumption?resource=download)"
   ]
  },
  {
   "cell_type": "markdown",
   "metadata": {},
   "source": [
    "## Import the data and libraries & Set Up "
   ]
  },
  {
   "cell_type": "code",
   "execution_count": null,
   "metadata": {},
   "outputs": [],
   "source": [
    "import pandas as pd\n",
    "import matplotlib.pyplot as plt\n",
    "import numpy as np\n",
    "import statsmodels.api as sm"
   ]
  },
  {
   "cell_type": "code",
   "execution_count": null,
   "metadata": {},
   "outputs": [],
   "source": [
    "# Read the data from the pjme-data dataset\n",
    "energy_df = pd.read_csv('DAYTON_hourly.csv')\n",
    "\n",
    "# For joining purposes\n",
    "energy_df.set_index('Datetime', inplace=True) \n",
    "\n",
    "# We need same type when joining (other dataset wil have datetime)\n",
    "energy_df.index = pd.to_datetime(energy_df.index)\n",
    "\n",
    "# Display the first few rows of the dataframe\n",
    "energy_df.head(-10)\n",
    "\n",
    "# dayton_temp_df.head(num) - helps specify how many rows of the dataframe you want to see"
   ]
  },
  {
   "cell_type": "code",
   "execution_count": null,
   "metadata": {},
   "outputs": [],
   "source": [
    "dayton_temp_df = pd.read_csv('dayton-temp.csv')\n",
    "\n",
    "# Convert 'DATE' column to datetime, assuming the year is 2010\n",
    "dayton_temp_df['DATE'] = pd.to_datetime('2010-' + dayton_temp_df['DATE'].str[:5] + dayton_temp_df['DATE'].str[5:], format='%Y-%m-%dT%H:%M:%S')\n",
    "\n",
    "# Set the 'DATE' column as the index\n",
    "dayton_temp_df.set_index('DATE', inplace=True)\n",
    "\n",
    "# Display the first few rows to verify\n",
    "print(dayton_temp_df.head())"
   ]
  },
  {
   "cell_type": "code",
   "execution_count": null,
   "metadata": {},
   "outputs": [],
   "source": [
    "energy_temp_df = energy_df.join(dayton_temp_df, how='inner')\n",
    "energy_temp_df.head()"
   ]
  },
  {
   "cell_type": "markdown",
   "metadata": {},
   "source": [
    "# Clean the data"
   ]
  },
  {
   "cell_type": "code",
   "execution_count": null,
   "metadata": {},
   "outputs": [],
   "source": [
    "# Remove all columns which is not HLY-TEMP-NORMAL, and DAYTON_MW\n",
    "energy_temp_df = energy_temp_df[['HLY-TEMP-NORMAL', 'DAYTON_MW']]\n",
    "energy_temp_df.head()"
   ]
  },
  {
   "cell_type": "code",
   "execution_count": null,
   "metadata": {},
   "outputs": [],
   "source": [
    "# drop rows with missing values\n",
    "energy_temp_df.dropna(inplace=True)"
   ]
  },
  {
   "cell_type": "markdown",
   "metadata": {},
   "source": [
    "# Visualizing the data"
   ]
  },
  {
   "cell_type": "code",
   "execution_count": null,
   "metadata": {},
   "outputs": [],
   "source": [
    "# Plotting the data\n",
    "\n",
    "plt.figure(figsize=(12, 6))\n",
    "energy_temp_df['DAYTON_MW'].plot(label='Hourly', alpha=0.5)\n",
    "energy_temp_df.resample('D').mean()['DAYTON_MW'].plot(label='Daily Mean', alpha=0.8)\n",
    "energy_temp_df.resample('ME').mean()['DAYTON_MW'].plot(label='Monthly Mean', linewidth=3)\n",
    "plt.legend()\n"
   ]
  },
  {
   "cell_type": "code",
   "execution_count": null,
   "metadata": {},
   "outputs": [],
   "source": [
    "# set up the legend for hourly, daily, and monthly\n",
    "\n",
    "plt.figure(figsize=(12, 6))\n",
    "energy_temp_df.resample('H').mean()['HLY-TEMP-NORMAL'].plot(label='Hourly', alpha=0.5)\n",
    "energy_temp_df.resample('D').mean()['HLY-TEMP-NORMAL'].plot(label='Daily Mean', alpha=0.8)\n",
    "energy_temp_df.resample('M').mean()['HLY-TEMP-NORMAL'].plot(label='Monthly Mean', linewidth=3)\n",
    "plt.legend()\n"
   ]
  },
  {
   "cell_type": "code",
   "execution_count": null,
   "metadata": {},
   "outputs": [],
   "source": [
    "def do_stats(df, x_col, y_col):\n",
    "    # Drop all rows with NaN values\n",
    "    df.dropna(inplace=True)\n",
    "\n",
    "    # Add a constant to the independent value\n",
    "    X = sm.add_constant(df[x_col])\n",
    "\n",
    "    # Fit the model with the temperature as the independent variable and energy consumption as the dependent variable\n",
    "    model = sm.OLS(df[y_col], X)\n",
    "\n",
    "    results = model.fit()\n",
    "\n",
    "    # Print out the statistics\n",
    "    print(results.summary())\n",
    "\n",
    "    # Plot the data and the best fit line\n",
    "    plt.figure(figsize=(12, 6))\n",
    "    plt.scatter(energy_temp_df[x_col], energy_temp_df[y_col], alpha=0.5)\n",
    "    plt.plot(energy_temp_df[x_col], results.predict(), color='red', linewidth=3)\n",
    "    plt.xlabel('Temperature')\n",
    "    plt.ylabel('Energy Consumption')\n",
    "    plt.title('Energy Consumption vs Temperature')\n",
    "    plt.show()"
   ]
  },
  {
   "cell_type": "markdown",
   "metadata": {},
   "source": [
    "This doesn't yield great results (we can see that clearly from the graph, but it's verified using R^2)"
   ]
  },
  {
   "cell_type": "code",
   "execution_count": null,
   "metadata": {},
   "outputs": [],
   "source": [
    "do_stats(energy_temp_df, 'HLY-TEMP-NORMAL', 'DAYTON_MW')"
   ]
  },
  {
   "cell_type": "code",
   "execution_count": null,
   "metadata": {},
   "outputs": [],
   "source": [
    "# Make a new column for the absolute value of the different between the actual temperature and 50 degrees\n",
    "energy_temp_df['TEMP_DIFF'] = np.abs(energy_temp_df['HLY-TEMP-NORMAL'] - 50)"
   ]
  },
  {
   "cell_type": "code",
   "execution_count": null,
   "metadata": {},
   "outputs": [],
   "source": [
    "do_stats(energy_temp_df, 'TEMP_DIFF', 'DAYTON_MW')"
   ]
  },
  {
   "cell_type": "code",
   "execution_count": null,
   "metadata": {},
   "outputs": [],
   "source": [
    "# plot temperature difference\n",
    "plt.figure(figsize=(12, 6))\n",
    "energy_temp_df['TEMP_DIFF'].plot()"
   ]
  },
  {
   "cell_type": "code",
   "execution_count": null,
   "metadata": {},
   "outputs": [],
   "source": [
    "# plot temperature difference\n",
    "plt.figure(figsize=(12, 6))\n",
    "energy_temp_df['DAYTON_MW'].plot()"
   ]
  }
 ],
 "metadata": {
  "kernelspec": {
   "display_name": "Python 3",
   "language": "python",
   "name": "python3"
  },
  "language_info": {
   "codemirror_mode": {
    "name": "ipython",
    "version": 3
   },
   "file_extension": ".py",
   "mimetype": "text/x-python",
   "name": "python",
   "nbconvert_exporter": "python",
   "pygments_lexer": "ipython3",
   "version": "3.11.6"
  }
 },
 "nbformat": 4,
 "nbformat_minor": 2
}
